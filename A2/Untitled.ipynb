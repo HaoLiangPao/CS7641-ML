{
 "cells": [
  {
   "cell_type": "markdown",
   "id": "d134eb4f-e2da-4ccf-96cc-161f55747c52",
   "metadata": {},
   "source": []
  },
  {
   "cell_type": "code",
   "execution_count": 1,
   "id": "ce63f16b",
   "metadata": {},
   "outputs": [],
   "source": [
    "import mlrose_hiive as mlrose\n",
    "import numpy as np\n",
    "import matplotlib.pyplot as plt\n",
    "\n",
    "from sklearn.datasets import load_iris\n",
    "from sklearn.model_selection import train_test_split\n",
    "from sklearn.preprocessing import MinMaxScaler, OneHotEncoder\n",
    "from sklearn.metrics import accuracy_score"
   ]
  },
  {
   "cell_type": "markdown",
   "id": "7f6420cb-bf84-4545-8dc8-516fed0ce24f",
   "metadata": {},
   "source": [
    "## 4 Peak Problem"
   ]
  },
  {
   "cell_type": "code",
   "execution_count": 2,
   "id": "ed5e613b-aac9-4792-8724-36914ece4008",
   "metadata": {},
   "outputs": [],
   "source": [
    "# Define fitness function for Four Peaks\n",
    "fitness = mlrose.FourPeaks(t_pct=0.15)\n",
    "\n",
    "# Define optimization problem\n",
    "problem = mlrose.DiscreteOpt(length=20, fitness_fn=fitness, maximize=True, max_val=2)"
   ]
  },
  {
   "cell_type": "markdown",
   "id": "7fc1fbaf-2d13-41cb-aa72-84fb83a1470b",
   "metadata": {},
   "source": [
    "## Knapsack Problem"
   ]
  },
  {
   "cell_type": "code",
   "execution_count": 3,
   "id": "1c86bd07-c779-43c2-9984-0bd5d8669a62",
   "metadata": {},
   "outputs": [],
   "source": [
    "# Define weights and values for the Knapsack problem\n",
    "weights = [10, 5, 2, 8, 15, 7, 3, 20, 6, 1]\n",
    "values = [1, 2, 3, 4, 5, 6, 7, 8, 9, 10]\n",
    "\n",
    "# Define fitness function for Knapsack\n",
    "fitness = mlrose.Knapsack(weights, values, max_weight_pct=0.6)\n",
    "\n",
    "# Define optimization problem\n",
    "problem = mlrose.DiscreteOpt(length=10, fitness_fn=fitness, maximize=True, max_val=2)"
   ]
  },
  {
   "cell_type": "markdown",
   "id": "a0bbcf73-53ee-4c26-994b-ad10f61bc156",
   "metadata": {},
   "source": [
    "## Algorithms Implementation\n",
    "1. Randomized Hill Climbing\n",
    "2. Simulated Annealing\n",
    "3. Genetic Algorithm"
   ]
  },
  {
   "cell_type": "code",
   "execution_count": 4,
   "id": "aecd77ad-7018-4cb4-8487-ecedea0d8eca",
   "metadata": {},
   "outputs": [
    {
     "name": "stdout",
     "output_type": "stream",
     "text": [
      "Best state: [1 0 1 0 1 1 1 0 1 1]\n",
      "Best fitness: 41.0\n"
     ]
    }
   ],
   "source": [
    "def randomized_hill_climbing(problem, max_attempts=10, max_iters=1000, restarts=0):\n",
    "    best_state, best_fitness, _ = mlrose.random_hill_climb(problem, \n",
    "                                                           max_attempts=max_attempts, \n",
    "                                                           max_iters=max_iters, \n",
    "                                                           restarts=restarts)\n",
    "    return best_state, best_fitness\n",
    "\n",
    "# Example usage for Four Peaks\n",
    "best_state, best_fitness = randomized_hill_climbing(problem, max_attempts=100, max_iters=1000)\n",
    "print(\"Best state:\", best_state)\n",
    "print(\"Best fitness:\", best_fitness)"
   ]
  },
  {
   "cell_type": "markdown",
   "id": "3faeead7-8c98-4275-9205-5e119a0c105c",
   "metadata": {},
   "source": [
    "## Algorithm Testing"
   ]
  },
  {
   "cell_type": "markdown",
   "id": "c840d6c7-0597-4ea2-acc9-74a638ab254a",
   "metadata": {},
   "source": [
    "### RHC Testing"
   ]
  },
  {
   "cell_type": "code",
   "execution_count": 6,
   "id": "5c3f8615-c1f9-4718-bfa6-99c9aa944744",
   "metadata": {},
   "outputs": [
    {
     "ename": "NameError",
     "evalue": "name 'four_peaks_problem' is not defined",
     "output_type": "error",
     "traceback": [
      "\u001b[0;31m---------------------------------------------------------------------------\u001b[0m",
      "\u001b[0;31mNameError\u001b[0m                                 Traceback (most recent call last)",
      "Cell \u001b[0;32mIn[6], line 3\u001b[0m\n\u001b[1;32m      1\u001b[0m \u001b[38;5;66;03m# Run RHC on both problems\u001b[39;00m\n\u001b[1;32m      2\u001b[0m num_runs \u001b[38;5;241m=\u001b[39m \u001b[38;5;241m10\u001b[39m\n\u001b[0;32m----> 3\u001b[0m rhc_peaks_state, rhc_peaks_fitness \u001b[38;5;241m=\u001b[39m randomized_hill_climbing(\u001b[43mfour_peaks_problem\u001b[49m, max_attempts\u001b[38;5;241m=\u001b[39m\u001b[38;5;241m100\u001b[39m, max_iters\u001b[38;5;241m=\u001b[39m\u001b[38;5;241m1000\u001b[39m, restarts\u001b[38;5;241m=\u001b[39m\u001b[38;5;241m0\u001b[39m, num_runs\u001b[38;5;241m=\u001b[39mnum_runs)\n\u001b[1;32m      4\u001b[0m rhc_knapsack_state, rhc_knapsack_fitness \u001b[38;5;241m=\u001b[39m randomized_hill_climbing(knapsack_problem, max_attempts\u001b[38;5;241m=\u001b[39m\u001b[38;5;241m100\u001b[39m, max_iters\u001b[38;5;241m=\u001b[39m\u001b[38;5;241m1000\u001b[39m, restarts\u001b[38;5;241m=\u001b[39m\u001b[38;5;241m0\u001b[39m, num_runs\u001b[38;5;241m=\u001b[39mnum_runs)\n\u001b[1;32m      6\u001b[0m \u001b[38;5;28mprint\u001b[39m(\u001b[38;5;124mf\u001b[39m\u001b[38;5;124m\"\u001b[39m\u001b[38;5;124m[RHC] Four Peaks Results: (state: \u001b[39m\u001b[38;5;132;01m{\u001b[39;00mrhc_four_peaks_results\u001b[38;5;132;01m}\u001b[39;00m\u001b[38;5;124m, fitness: \u001b[39m\u001b[38;5;132;01m{\u001b[39;00mrhc_peaks_fitness\u001b[38;5;132;01m}\u001b[39;00m\u001b[38;5;124m)\u001b[39m\u001b[38;5;124m\"\u001b[39m)\n",
      "\u001b[0;31mNameError\u001b[0m: name 'four_peaks_problem' is not defined"
     ]
    }
   ],
   "source": [
    "# Run RHC on both problems\n",
    "num_runs = 10\n",
    "rhc_peaks_state, rhc_peaks_fitness = randomized_hill_climbing(four_peaks_problem, max_attempts=100, max_iters=1000, restarts=0, num_runs=num_runs)\n",
    "rhc_knapsack_state, rhc_knapsack_fitness = randomized_hill_climbing(knapsack_problem, max_attempts=100, max_iters=1000, restarts=0, num_runs=num_runs)\n",
    "\n",
    "print(f\"[RHC] Four Peaks Results: (state: {rhc_four_peaks_results}, fitness: {rhc_peaks_fitness})\")\n",
    "print(f\"[RHC] Knapsack Results: (state: {rhc_knapsack_state}, fitness: {rhc_knapsack_fitness})\")"
   ]
  },
  {
   "cell_type": "code",
   "execution_count": null,
   "id": "c1e63a94-733a-4fac-b85c-83f2a1cbacec",
   "metadata": {},
   "outputs": [],
   "source": []
  }
 ],
 "metadata": {
  "kernelspec": {
   "display_name": "Python 3 (ipykernel)",
   "language": "python",
   "name": "python3"
  },
  "language_info": {
   "codemirror_mode": {
    "name": "ipython",
    "version": 3
   },
   "file_extension": ".py",
   "mimetype": "text/x-python",
   "name": "python",
   "nbconvert_exporter": "python",
   "pygments_lexer": "ipython3",
   "version": "3.9.6"
  }
 },
 "nbformat": 4,
 "nbformat_minor": 5
}
